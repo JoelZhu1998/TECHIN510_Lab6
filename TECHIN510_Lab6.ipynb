{
  "nbformat": 4,
  "nbformat_minor": 0,
  "metadata": {
    "colab": {
      "provenance": []
    },
    "kernelspec": {
      "name": "python3",
      "display_name": "Python 3"
    },
    "language_info": {
      "name": "python"
    }
  },
  "cells": [
    {
      "cell_type": "markdown",
      "source": [
        "# What problems did you face when developing the last LLM powered app? Can they be solved with new prompting techniques?"
      ],
      "metadata": {
        "id": "na258evcrxDj"
      }
    },
    {
      "cell_type": "markdown",
      "source": [
        "1. Accuracy and Relevance: Generating introductions or any content that consistently aligns with user expectations can be tricky.\n",
        "2. Prompt Length and Structure: Too short prompts might not give enough context, while overly long prompts could overwhelm the model.Solution: Iteratively testing different prompt lengths, structures, and combinations can help identify the optimal format for your application."
      ],
      "metadata": {
        "id": "VfSN0Hg3vJ8A"
      }
    },
    {
      "cell_type": "markdown",
      "source": [
        "# Specify how the new prompting techniques addressed the problems."
      ],
      "metadata": {
        "id": "GV0j3-tfvnZh"
      }
    },
    {
      "cell_type": "markdown",
      "source": [
        "Accuracy and Relevance:\n",
        "Chain-of-Thought Prompting: Breaking down the prompt into logical steps and guiding the LLM through a reasoning process can help it produce more accurate and context-aware responses.\n",
        "Prompt Length and Structure:\n",
        "Contextual Prompts: Keeping prompts concise but providing sufficient context (such as keywords or user characteristics) can direct the LLM without overwhelming it. For instance, providing specific parameters like the audience and purpose."
      ],
      "metadata": {
        "id": "yAk-z5frvpjl"
      }
    },
    {
      "cell_type": "code",
      "source": [
        "import getpass\n",
        "\n",
        "import google.generativeai as genai\n",
        "\n",
        "GOOGLE_API_KEY = getpass.getpass()\n",
        "genai.configure(api_key=GOOGLE_API_KEY)"
      ],
      "metadata": {
        "id": "kGnLcWyTFo9R",
        "colab": {
          "base_uri": "https://localhost:8080/"
        },
        "outputId": "37f9e156-bd77-4a08-c374-5ec60f49e85c"
      },
      "execution_count": null,
      "outputs": [
        {
          "name": "stdout",
          "output_type": "stream",
          "text": [
            "··········\n"
          ]
        }
      ]
    },
    {
      "cell_type": "code",
      "source": [
        "model = genai.GenerativeModel('gemini-pro')"
      ],
      "metadata": {
        "id": "HtLbXTfQJJ4R"
      },
      "execution_count": null,
      "outputs": []
    },
    {
      "cell_type": "code",
      "source": [
        "def gen_content(prompt):\n",
        "    response = model.generate_content(prompt)\n",
        "    print(f\"[PROMPT]: {prompt}\")\n",
        "    print(f\"[AI]: {response.text}\")\n",
        "    return response.text"
      ],
      "metadata": {
        "id": "KVE86s9PJPc-"
      },
      "execution_count": null,
      "outputs": []
    },
    {
      "cell_type": "code",
      "source": [
        "prompt = \"You are an expert in resume, please help me write a resume for product manager.\"\n",
        "gen_content(prompt)"
      ],
      "metadata": {
        "colab": {
          "base_uri": "https://localhost:8080/",
          "height": 1000
        },
        "id": "N_-8_Q67qqBU",
        "outputId": "cd51b8f9-9eb4-4645-db68-01b7ff6875f0"
      },
      "execution_count": null,
      "outputs": [
        {
          "output_type": "stream",
          "name": "stdout",
          "text": [
            "[PROMPT]: You are an expert in resume, please help me write a resume for product manager.\n",
            "[AI]: **[Your Name]**\n",
            "[Your Address] | [Your Phone Number] | [Your Email]\n",
            "\n",
            "**Summary**\n",
            "\n",
            "Highly motivated and results-oriented Product Manager with 5+ years of experience in developing and launching successful digital products. Proven ability to lead cross-functional teams, conduct market research, and deliver high-quality products that meet user needs.\n",
            "\n",
            "**Skills**\n",
            "\n",
            "* Product Management\n",
            "* Agile Development\n",
            "* Market Research\n",
            "* User Experience Design\n",
            "* Stakeholder Management\n",
            "* Data Analysis\n",
            "* Scrum/Kanban\n",
            "* Jira/Asana\n",
            "\n",
            "**Experience**\n",
            "\n",
            "**Product Manager**, ABC Company, 2018 - Present\n",
            "* Led the development and launch of three major digital products, resulting in a 25% increase in user engagement\n",
            "* Conducted thorough market research to identify user needs and competitive landscape\n",
            "* Collaborated with design, engineering, and marketing teams to ensure product alignment with business objectives\n",
            "* Tracked product performance metrics and made data-driven decisions to optimize product strategy\n",
            "\n",
            "**Associate Product Manager**, XYZ Company, 2016 - 2018\n",
            "* Assisted in the development and management of the company's flagship product\n",
            "* Gathered customer feedback and conducted user testing to identify areas for product improvement\n",
            "* Created and maintained product roadmaps, ensuring alignment between product vision and market needs\n",
            "* Worked closely with engineering team to prioritize and implement product enhancements\n",
            "\n",
            "**Education**\n",
            "\n",
            "**Master of Business Administration (MBA) with Concentration in Marketing**, University of California, Berkeley, 2014\n",
            "\n",
            "**Bachelor of Science in Computer Science**, Massachusetts Institute of Technology, 2012\n",
            "\n",
            "**Certifications**\n",
            "\n",
            "* Certified Scrum Product Owner (CSPO)\n",
            "* Certified Product Manager (CPM)\n",
            "\n",
            "**Awards and Recognition**\n",
            "\n",
            "* Product of the Year Award, ABC Company, 2020\n",
            "* Employee of the Quarter, XYZ Company, 2017\n",
            "\n",
            "**References**\n",
            "\n",
            "Available upon request.\n"
          ]
        },
        {
          "output_type": "execute_result",
          "data": {
            "text/plain": [
              "\"**[Your Name]**\\n[Your Address] | [Your Phone Number] | [Your Email]\\n\\n**Summary**\\n\\nHighly motivated and results-oriented Product Manager with 5+ years of experience in developing and launching successful digital products. Proven ability to lead cross-functional teams, conduct market research, and deliver high-quality products that meet user needs.\\n\\n**Skills**\\n\\n* Product Management\\n* Agile Development\\n* Market Research\\n* User Experience Design\\n* Stakeholder Management\\n* Data Analysis\\n* Scrum/Kanban\\n* Jira/Asana\\n\\n**Experience**\\n\\n**Product Manager**, ABC Company, 2018 - Present\\n* Led the development and launch of three major digital products, resulting in a 25% increase in user engagement\\n* Conducted thorough market research to identify user needs and competitive landscape\\n* Collaborated with design, engineering, and marketing teams to ensure product alignment with business objectives\\n* Tracked product performance metrics and made data-driven decisions to optimize product strategy\\n\\n**Associate Product Manager**, XYZ Company, 2016 - 2018\\n* Assisted in the development and management of the company's flagship product\\n* Gathered customer feedback and conducted user testing to identify areas for product improvement\\n* Created and maintained product roadmaps, ensuring alignment between product vision and market needs\\n* Worked closely with engineering team to prioritize and implement product enhancements\\n\\n**Education**\\n\\n**Master of Business Administration (MBA) with Concentration in Marketing**, University of California, Berkeley, 2014\\n\\n**Bachelor of Science in Computer Science**, Massachusetts Institute of Technology, 2012\\n\\n**Certifications**\\n\\n* Certified Scrum Product Owner (CSPO)\\n* Certified Product Manager (CPM)\\n\\n**Awards and Recognition**\\n\\n* Product of the Year Award, ABC Company, 2020\\n* Employee of the Quarter, XYZ Company, 2017\\n\\n**References**\\n\\nAvailable upon request.\""
            ],
            "application/vnd.google.colaboratory.intrinsic+json": {
              "type": "string"
            }
          },
          "metadata": {},
          "execution_count": 13
        }
      ]
    },
    {
      "cell_type": "markdown",
      "source": [
        "### Write clear instructions"
      ],
      "metadata": {
        "id": "-8ZZsDbP60FG"
      }
    },
    {
      "cell_type": "code",
      "source": [
        "# Ask the model to adope a persona\n",
        "prompt = \"You are an expert in resume writing. Help me create a comprehensive resume tailored for a product manager position. The resume should include the following sections: a professional summary, skills, relevant work experience, education, and certifications. Make sure to highlight key skills essential for a product manager, such as strategic planning, product development, and cross-functional team leadership.\n",
        "gen_content(prompt)"
      ],
      "metadata": {
        "colab": {
          "base_uri": "https://localhost:8080/",
          "height": 1000
        },
        "id": "YfjFYH2tJ2Zn",
        "outputId": "a213f610-ade6-45ba-eae6-5b735c184ab3"
      },
      "execution_count": null,
      "outputs": [
        {
          "output_type": "stream",
          "name": "stdout",
          "text": [
            "[PROMPT]: You are an expert in resume, please help me write a resume for product manager.\n",
            "[AI]: **Jane Doe**\n",
            "123 Main Street, Anytown, CA 12345 | (555) 123-4567 | jane.doe@email.com\n",
            "\n",
            "**Summary**\n",
            "Highly accomplished Product Manager with 8+ years of experience driving product strategy, execution, and innovation. Proven ability to align business goals with user needs, deliver value to customers, and maximize revenue.\n",
            "\n",
            "**Skills**\n",
            "* Product Management\n",
            "* Agile Development (Scrum, Kanban)\n",
            "* User Research and Analysis\n",
            "* Competitive Analysis\n",
            "* Market Intelligence\n",
            "* Business Strategy\n",
            "* Stakeholder Management\n",
            "* Data Analysis\n",
            "* UX Design\n",
            "* Wireframing and Prototyping\n",
            "\n",
            "**Experience**\n",
            "\n",
            "**Product Manager, ABC Software Inc., 2016 - Present**\n",
            "* Led product roadmap and feature development for multiple B2B SaaS products\n",
            "* Conducted user research, gathered feedback, and translated customer insights into actionable product requirements\n",
            "* Collaborated with cross-functional teams (engineering, design, marketing) to deliver high-value products\n",
            "* Analyzed market trends, competitors, and customer data to inform product strategy and decision-making\n",
            "* Increased revenue by 25% through targeted feature releases and improved product adoption\n",
            "\n",
            "**Associate Product Manager, XYZ Corporation, 2014 - 2016**\n",
            "* Assisted in the development and launch of a flagship mobile application\n",
            "* Conducted A/B testing and user interviews to optimize app functionality and user experience\n",
            "* Tracked product metrics, analyzed usage data, and identified areas for improvement\n",
            "* Contributed to product roadmap by providing insights on user needs and competitive analysis\n",
            "\n",
            "**Education**\n",
            "* Master of Business Administration (MBA) in Product Management, University of California, Berkeley\n",
            "* Bachelor of Science in Industrial Engineering, University of Michigan\n",
            "\n",
            "**Certifications**\n",
            "* Certified Product Manager (CPM) from the Product Management Institute\n",
            "* Agile Certified Practitioner (ACP) from the Scrum Alliance\n",
            "\n",
            "**Awards and Recognition**\n",
            "* Product Manager of the Year Award, 2019\n",
            "* Team Excellence Award for Outstanding Product Delivery, 2017\n",
            "\n",
            "**References**\n",
            "Available upon request.\n"
          ]
        },
        {
          "output_type": "execute_result",
          "data": {
            "text/plain": [
              "'**Jane Doe**\\n123 Main Street, Anytown, CA 12345 | (555) 123-4567 | jane.doe@email.com\\n\\n**Summary**\\nHighly accomplished Product Manager with 8+ years of experience driving product strategy, execution, and innovation. Proven ability to align business goals with user needs, deliver value to customers, and maximize revenue.\\n\\n**Skills**\\n* Product Management\\n* Agile Development (Scrum, Kanban)\\n* User Research and Analysis\\n* Competitive Analysis\\n* Market Intelligence\\n* Business Strategy\\n* Stakeholder Management\\n* Data Analysis\\n* UX Design\\n* Wireframing and Prototyping\\n\\n**Experience**\\n\\n**Product Manager, ABC Software Inc., 2016 - Present**\\n* Led product roadmap and feature development for multiple B2B SaaS products\\n* Conducted user research, gathered feedback, and translated customer insights into actionable product requirements\\n* Collaborated with cross-functional teams (engineering, design, marketing) to deliver high-value products\\n* Analyzed market trends, competitors, and customer data to inform product strategy and decision-making\\n* Increased revenue by 25% through targeted feature releases and improved product adoption\\n\\n**Associate Product Manager, XYZ Corporation, 2014 - 2016**\\n* Assisted in the development and launch of a flagship mobile application\\n* Conducted A/B testing and user interviews to optimize app functionality and user experience\\n* Tracked product metrics, analyzed usage data, and identified areas for improvement\\n* Contributed to product roadmap by providing insights on user needs and competitive analysis\\n\\n**Education**\\n* Master of Business Administration (MBA) in Product Management, University of California, Berkeley\\n* Bachelor of Science in Industrial Engineering, University of Michigan\\n\\n**Certifications**\\n* Certified Product Manager (CPM) from the Product Management Institute\\n* Agile Certified Practitioner (ACP) from the Scrum Alliance\\n\\n**Awards and Recognition**\\n* Product Manager of the Year Award, 2019\\n* Team Excellence Award for Outstanding Product Delivery, 2017\\n\\n**References**\\nAvailable upon request.'"
            ],
            "application/vnd.google.colaboratory.intrinsic+json": {
              "type": "string"
            }
          },
          "metadata": {},
          "execution_count": 11
        }
      ]
    },
    {
      "cell_type": "code",
      "source": [
        "# Specify the steps required to complete a task\n",
        "prompt = \"\"\"You are an expert in resume writing. Help me create a comprehensive resume tailored for a product manager position.\n",
        "Define a Professional Summary: Provide a brief overview of career achievements and product management expertise.\n",
        "Highlight years of experience, key skills, and major accomplishments.\n",
        "List Key Skills: Identify the core competencies required for a product manager role (e.g., strategic planning, cross-functional team leadership).\n",
        "Arrange them in a clear, bullet-point format.\n",
        "Outline Relevant Work Experience: List each relevant job position, including company name, title, and employment period.\n",
        "Summarize key responsibilities and achievements in each role.\n",
        "Provide Educational Background: Include the highest degrees attained, specifying the institution and graduation date.\n",
        "Optionally, add relevant coursework or academic projects.\n",
        "\"\"\"\n",
        "gen_content(prompt)"
      ],
      "metadata": {
        "id": "kNoo9ZZIViHn",
        "colab": {
          "base_uri": "https://localhost:8080/",
          "height": 1000
        },
        "outputId": "b09d8854-2020-4b4b-f663-bdada08517db"
      },
      "execution_count": null,
      "outputs": [
        {
          "output_type": "stream",
          "name": "stdout",
          "text": [
            "[PROMPT]: You are an expert in resume writing. Help me create a comprehensive resume tailored for a product manager position. \n",
            "Define a Professional Summary: Provide a brief overview of career achievements and product management expertise.\n",
            "Highlight years of experience, key skills, and major accomplishments.\n",
            "List Key Skills: Identify the core competencies required for a product manager role (e.g., strategic planning, cross-functional team leadership).\n",
            "Arrange them in a clear, bullet-point format.\n",
            "Outline Relevant Work Experience: List each relevant job position, including company name, title, and employment period.\n",
            "Summarize key responsibilities and achievements in each role.\n",
            "Provide Educational Background: Include the highest degrees attained, specifying the institution and graduation date.\n",
            "Optionally, add relevant coursework or academic projects.\n",
            "\n",
            "[AI]: **Professional Summary**\n",
            "\n",
            "Seasoned Product Manager with 8+ years of experience driving product development, strategy, and innovation. Proven ability to lead cross-functional teams, analyze market trends, and deliver user-centric solutions that enhance business value.\n",
            "\n",
            "**Key Skills**\n",
            "\n",
            "* Product Strategy and Roadmap Development\n",
            "* Market Research and Analysis\n",
            "* User Experience (UX) Design and Validation\n",
            "* Cross-Functional Team Leadership\n",
            "* Agile and Scrum Methodologies\n",
            "* Stakeholder Management\n",
            "* Data Analysis and Interpretation\n",
            "\n",
            "**Relevant Work Experience**\n",
            "\n",
            "**Product Manager**, ABC Technologies, 2018 - Present\n",
            "\n",
            "* Led the development and launch of a new enterprise software platform, resulting in a 25% increase in revenue within one year.\n",
            "* Analyzed market trends and customer feedback to identify unmet needs and develop innovative product features.\n",
            "* Managed a cross-functional team of engineers, designers, and marketers to ensure timely and successful product releases.\n",
            "\n",
            "**Senior Product Analyst**, XYZ Corporation, 2015 - 2018\n",
            "\n",
            "* Conducted extensive market research and competitor analysis to inform product roadmap decisions.\n",
            "* Developed and maintained wireframes, mockups, and prototypes to enhance user experience.\n",
            "* Collaborated with engineering, sales, and marketing teams to define product requirements and prioritize development efforts.\n",
            "\n",
            "**Product Associate**, LMN Industries, 2013 - 2015\n",
            "\n",
            "* Assisted in product planning and development for a line of consumer electronics.\n",
            "* Gathered customer feedback and analyzed market data to identify potential product enhancements.\n",
            "* Supported product launch activities and provided post-launch support.\n",
            "\n",
            "**Educational Background**\n",
            "\n",
            "**Master of Science in Product Management**, University of California, Berkeley, 2012\n",
            "**Bachelor of Science in Engineering**, Stanford University, 2010\n",
            "\n",
            "**Relevant Coursework:** Product Development, Market Analysis, User Interface Design, Agile Methodologies\n"
          ]
        },
        {
          "output_type": "execute_result",
          "data": {
            "text/plain": [
              "'**Professional Summary**\\n\\nSeasoned Product Manager with 8+ years of experience driving product development, strategy, and innovation. Proven ability to lead cross-functional teams, analyze market trends, and deliver user-centric solutions that enhance business value.\\n\\n**Key Skills**\\n\\n* Product Strategy and Roadmap Development\\n* Market Research and Analysis\\n* User Experience (UX) Design and Validation\\n* Cross-Functional Team Leadership\\n* Agile and Scrum Methodologies\\n* Stakeholder Management\\n* Data Analysis and Interpretation\\n\\n**Relevant Work Experience**\\n\\n**Product Manager**, ABC Technologies, 2018 - Present\\n\\n* Led the development and launch of a new enterprise software platform, resulting in a 25% increase in revenue within one year.\\n* Analyzed market trends and customer feedback to identify unmet needs and develop innovative product features.\\n* Managed a cross-functional team of engineers, designers, and marketers to ensure timely and successful product releases.\\n\\n**Senior Product Analyst**, XYZ Corporation, 2015 - 2018\\n\\n* Conducted extensive market research and competitor analysis to inform product roadmap decisions.\\n* Developed and maintained wireframes, mockups, and prototypes to enhance user experience.\\n* Collaborated with engineering, sales, and marketing teams to define product requirements and prioritize development efforts.\\n\\n**Product Associate**, LMN Industries, 2013 - 2015\\n\\n* Assisted in product planning and development for a line of consumer electronics.\\n* Gathered customer feedback and analyzed market data to identify potential product enhancements.\\n* Supported product launch activities and provided post-launch support.\\n\\n**Educational Background**\\n\\n**Master of Science in Product Management**, University of California, Berkeley, 2012\\n**Bachelor of Science in Engineering**, Stanford University, 2010\\n\\n**Relevant Coursework:** Product Development, Market Analysis, User Interface Design, Agile Methodologies'"
            ],
            "application/vnd.google.colaboratory.intrinsic+json": {
              "type": "string"
            }
          },
          "metadata": {},
          "execution_count": 14
        }
      ]
    },
    {
      "cell_type": "markdown",
      "source": [
        "### Provide Reference Text\n",
        "\n"
      ],
      "metadata": {
        "id": "kIIUoMvr8xPI"
      }
    },
    {
      "cell_type": "code",
      "source": [
        "# provide reference text\n",
        "prompt = \"\"\"You are an expert in resume writing. Help me create a comprehensive resume tailored for a product manager position.\n",
        "Define a Professional Summary: Provide a brief overview of career achievements and product management expertise.\n",
        "Highlight years of experience, key skills, and major accomplishments.\n",
        "List Key Skills: Identify the core competencies required for a product manager role (e.g., strategic planning, cross-functional team leadership).\n",
        "Arrange them in a clear, bullet-point format.\n",
        "Outline Relevant Work Experience: List each relevant job position, including company name, title, and employment period.\n",
        "Summarize key responsibilities and achievements in each role.\n",
        "Provide Educational Background: Include the highest degrees attained, specifying the institution and graduation date.\n",
        "Optionally, add relevant coursework or academic projects.\n",
        "Detail Certifications: Identify professional certifications valuable to the role (e.g., CSPO, PMC-V).\n",
        "List each certification with the issuing organization and the date attained.\n",
        "Here is an example for Relevant Work Experience:\n",
        "Senior Product Manager, XYZ Tech Solutions\n",
        "January 2020 - Present\n",
        "\n",
        "Led a team of 10 engineers and designers to deliver a new SaaS product, increasing annual revenue by 25%.\n",
        "Developed and executed the product roadmap, aligning features with market trends and customer requirements.\n",
        "Established a comprehensive product metrics system, optimizing features based on user behavior data.\n",
        "\n",
        "\"\"\"\n",
        "gen_content(prompt)"
      ],
      "metadata": {
        "colab": {
          "base_uri": "https://localhost:8080/",
          "height": 1000
        },
        "id": "v9fkAqUSWpBR",
        "outputId": "3fc520f3-4951-404c-ede0-3a176cb0d34e"
      },
      "execution_count": null,
      "outputs": [
        {
          "output_type": "stream",
          "name": "stdout",
          "text": [
            "[PROMPT]: You are an expert in resume writing. Help me create a comprehensive resume tailored for a product manager position. \n",
            "Define a Professional Summary: Provide a brief overview of career achievements and product management expertise.\n",
            "Highlight years of experience, key skills, and major accomplishments.\n",
            "List Key Skills: Identify the core competencies required for a product manager role (e.g., strategic planning, cross-functional team leadership).\n",
            "Arrange them in a clear, bullet-point format.\n",
            "Outline Relevant Work Experience: List each relevant job position, including company name, title, and employment period.\n",
            "Summarize key responsibilities and achievements in each role.\n",
            "Provide Educational Background: Include the highest degrees attained, specifying the institution and graduation date.\n",
            "Optionally, add relevant coursework or academic projects.\n",
            "Detail Certifications: Identify professional certifications valuable to the role (e.g., CSPO, PMC-V).\n",
            "List each certification with the issuing organization and the date attained.\n",
            "Here is an example for Relevant Work Experience:\n",
            "Senior Product Manager, XYZ Tech Solutions\n",
            "January 2020 - Present\n",
            "\n",
            "Led a team of 10 engineers and designers to deliver a new SaaS product, increasing annual revenue by 25%.\n",
            "Developed and executed the product roadmap, aligning features with market trends and customer requirements.\n",
            "Established a comprehensive product metrics system, optimizing features based on user behavior data.\n",
            "\n",
            "\n",
            "[AI]: **Professional Summary**\n",
            "\n",
            "Seasoned Product Manager with 7+ years of experience in developing and delivering high-impact products that drive customer satisfaction and revenue growth. Expertise in strategic planning, team leadership, user experience research, and data-driven decision-making.\n",
            "\n",
            "**Key Skills**\n",
            "\n",
            "* Strategic Planning and Execution\n",
            "* User Research and Experience Design\n",
            "* Cross-functional Team Leadership\n",
            "* Data Analysis and Market Research\n",
            "* Agile Development and Scrum Methodology\n",
            "* Product Roadmap Management\n",
            "* SaaS and Cloud Computing\n",
            "\n",
            "**Relevant Work Experience**\n",
            "\n",
            "**Senior Product Manager, XYZ Tech Solutions**\n",
            "January 2020 - Present\n",
            "\n",
            "* Led a team of 10 engineers and designers in the development and launch of a new SaaS product that increased annual revenue by 25%.\n",
            "* Developed and executed the product roadmap, aligning features with market trends and customer requirements.\n",
            "* Established a comprehensive product metrics system and used data analysis to optimize features based on user behavior.\n",
            "* Collaborated with marketing, sales, and customer support teams to gather feedback and enhance product offerings.\n",
            "\n",
            "**Product Manager, ABC Technologies**\n",
            "June 2017 - December 2019\n",
            "\n",
            "* Managed a portfolio of mobile and web applications, driving a 15% increase in customer engagement.\n",
            "* Conducted user research, analyzed market data, and translated customer insights into product requirements.\n",
            "* Worked closely with engineering and design teams to develop and deliver new features that met user needs.\n",
            "* Implemented an agile development process, resulting in faster product iterations and improved team efficiency.\n",
            "\n",
            "**Educational Background**\n",
            "\n",
            "**Master of Science in Product Management**\n",
            "University of California, Berkeley\n",
            "May 2016\n",
            "\n",
            "**Bachelor of Science in Computer Science**\n",
            "Massachusetts Institute of Technology\n",
            "June 2014\n",
            "\n",
            "**Certifications**\n",
            "\n",
            "* Certified Scrum Product Owner (CSPO), Scrum Alliance\n",
            "* Product Management Certification-Value (PMC-V), Product Management Alliance\n"
          ]
        },
        {
          "output_type": "execute_result",
          "data": {
            "text/plain": [
              "'**Professional Summary**\\n\\nSeasoned Product Manager with 7+ years of experience in developing and delivering high-impact products that drive customer satisfaction and revenue growth. Expertise in strategic planning, team leadership, user experience research, and data-driven decision-making.\\n\\n**Key Skills**\\n\\n* Strategic Planning and Execution\\n* User Research and Experience Design\\n* Cross-functional Team Leadership\\n* Data Analysis and Market Research\\n* Agile Development and Scrum Methodology\\n* Product Roadmap Management\\n* SaaS and Cloud Computing\\n\\n**Relevant Work Experience**\\n\\n**Senior Product Manager, XYZ Tech Solutions**\\nJanuary 2020 - Present\\n\\n* Led a team of 10 engineers and designers in the development and launch of a new SaaS product that increased annual revenue by 25%.\\n* Developed and executed the product roadmap, aligning features with market trends and customer requirements.\\n* Established a comprehensive product metrics system and used data analysis to optimize features based on user behavior.\\n* Collaborated with marketing, sales, and customer support teams to gather feedback and enhance product offerings.\\n\\n**Product Manager, ABC Technologies**\\nJune 2017 - December 2019\\n\\n* Managed a portfolio of mobile and web applications, driving a 15% increase in customer engagement.\\n* Conducted user research, analyzed market data, and translated customer insights into product requirements.\\n* Worked closely with engineering and design teams to develop and deliver new features that met user needs.\\n* Implemented an agile development process, resulting in faster product iterations and improved team efficiency.\\n\\n**Educational Background**\\n\\n**Master of Science in Product Management**\\nUniversity of California, Berkeley\\nMay 2016\\n\\n**Bachelor of Science in Computer Science**\\nMassachusetts Institute of Technology\\nJune 2014\\n\\n**Certifications**\\n\\n* Certified Scrum Product Owner (CSPO), Scrum Alliance\\n* Product Management Certification-Value (PMC-V), Product Management Alliance'"
            ],
            "application/vnd.google.colaboratory.intrinsic+json": {
              "type": "string"
            }
          },
          "metadata": {},
          "execution_count": 15
        }
      ]
    },
    {
      "cell_type": "markdown",
      "source": [
        "### Split complex tasks into simpler subtasks"
      ],
      "metadata": {
        "id": "fH-L9Sukeh5L"
      }
    },
    {
      "cell_type": "code",
      "source": [
        "# Specify the steps required to complete a task\n",
        "prompt = \"\"\"You are an expert in resume writing. Help me create a comprehensive resume tailored for a product manager position.\n",
        "Define a Professional Summary: Provide a brief overview of career achievements and product management expertise.\n",
        "Highlight years of experience, key skills, and major accomplishments.\n",
        "List Key Skills: Identify the core competencies required for a product manager role (e.g., strategic planning, cross-functional team leadership).\n",
        "Arrange them in a clear, bullet-point format.\n",
        "Outline Relevant Work Experience: List each relevant job position, including company name, title, and employment period.\n",
        "Summarize key responsibilities and achievements in each role.\n",
        "Provide Educational Background: Include the highest degrees attained, specifying the institution and graduation date.\n",
        "Optionally, add relevant coursework or academic projects.\n",
        "\"\"\"\n",
        "gen_content(prompt)"
      ],
      "metadata": {
        "colab": {
          "base_uri": "https://localhost:8080/",
          "height": 1000
        },
        "id": "H5UBXzaxHg6C",
        "outputId": "2888fabf-bdfa-4da0-c3cb-2115080d3d98"
      },
      "execution_count": null,
      "outputs": [
        {
          "output_type": "stream",
          "name": "stdout",
          "text": [
            "[PROMPT]: You are an expert in resume writing. Help me create a comprehensive resume tailored for a product manager position. \n",
            "Define a Professional Summary: Provide a brief overview of career achievements and product management expertise.\n",
            "Highlight years of experience, key skills, and major accomplishments.\n",
            "List Key Skills: Identify the core competencies required for a product manager role (e.g., strategic planning, cross-functional team leadership).\n",
            "Arrange them in a clear, bullet-point format.\n",
            "Outline Relevant Work Experience: List each relevant job position, including company name, title, and employment period.\n",
            "Summarize key responsibilities and achievements in each role.\n",
            "Provide Educational Background: Include the highest degrees attained, specifying the institution and graduation date.\n",
            "Optionally, add relevant coursework or academic projects.\n",
            "\n",
            "[AI]: **Professional Summary**\n",
            "\n",
            "Highly accomplished Product Manager with 7+ years of experience in driving successful product development and growth strategies. Proven ability to:\n",
            "\n",
            "* Define product vision, roadmap, and market positioning\n",
            "* Lead cross-functional teams to execute product delivery, ensuring alignment with business goals\n",
            "* Analyze market trends, user behavior, and competitive landscapes\n",
            "* Drive product adoption, engagement, and revenue generation\n",
            "\n",
            "**Key Skills**\n",
            "\n",
            "* Strategic Planning\n",
            "* Market Analysis and Segmentation\n",
            "* Product Development Lifecycle Management\n",
            "* Cross-Functional Team Leadership\n",
            "* User Research and UX Design\n",
            "* Data Analysis and Interpretation\n",
            "* Agile and Lean Methodologies\n",
            "\n",
            "**Relevant Work Experience**\n",
            "\n",
            "**Product Manager**, ABC Technology Corp. | January 2021 - Present\n",
            "* Led the development and launch of a new software product that increased revenue by 25%\n",
            "* Collaborated with engineering, design, and marketing to execute product roadmaps\n",
            "* Analyzed market trends and user feedback to identify opportunities for product improvement\n",
            "* Presented product roadmap to stakeholders and gained buy-in from key decision-makers\n",
            "\n",
            "**Senior Product Manager**, XYZ Widgets Inc. | July 2018 - December 2020\n",
            "* Managed a portfolio of existing products, identifying areas for growth and optimization\n",
            "* Led the launch of a new hardware product that gained significant market share\n",
            "* Collaborated with sales, customer support, and manufacturing to ensure product-market fit\n",
            "* Established key performance indicators (KPIs) and tracked progress to measure product success\n",
            "\n",
            "**Product Manager**, DEF Software Solutions | June 2016 - June 2018\n",
            "* Defined and prioritized product requirements based on market research and customer feedback\n",
            "* Facilitated user testing and gathered insights to improve product design\n",
            "* Worked closely with engineering to develop and implement new product features\n",
            "\n",
            "**Educational Background**\n",
            "\n",
            "**Master of Business Administration (MBA) with a focus on Product Management**, University of California, Berkeley | May 2016\n",
            "\n",
            "**Bachelor of Science in Computer Science**, Massachusetts Institute of Technology | May 2012\n",
            "\n",
            "**Relevant Coursework and Projects**\n",
            "\n",
            "* Product Development and Management\n",
            "* Market Research and Analysis\n",
            "* User Experience Design\n",
            "* Case Study: Launch of a New Product\n"
          ]
        },
        {
          "output_type": "execute_result",
          "data": {
            "text/plain": [
              "'**Professional Summary**\\n\\nHighly accomplished Product Manager with 7+ years of experience in driving successful product development and growth strategies. Proven ability to:\\n\\n* Define product vision, roadmap, and market positioning\\n* Lead cross-functional teams to execute product delivery, ensuring alignment with business goals\\n* Analyze market trends, user behavior, and competitive landscapes\\n* Drive product adoption, engagement, and revenue generation\\n\\n**Key Skills**\\n\\n* Strategic Planning\\n* Market Analysis and Segmentation\\n* Product Development Lifecycle Management\\n* Cross-Functional Team Leadership\\n* User Research and UX Design\\n* Data Analysis and Interpretation\\n* Agile and Lean Methodologies\\n\\n**Relevant Work Experience**\\n\\n**Product Manager**, ABC Technology Corp. | January 2021 - Present\\n* Led the development and launch of a new software product that increased revenue by 25%\\n* Collaborated with engineering, design, and marketing to execute product roadmaps\\n* Analyzed market trends and user feedback to identify opportunities for product improvement\\n* Presented product roadmap to stakeholders and gained buy-in from key decision-makers\\n\\n**Senior Product Manager**, XYZ Widgets Inc. | July 2018 - December 2020\\n* Managed a portfolio of existing products, identifying areas for growth and optimization\\n* Led the launch of a new hardware product that gained significant market share\\n* Collaborated with sales, customer support, and manufacturing to ensure product-market fit\\n* Established key performance indicators (KPIs) and tracked progress to measure product success\\n\\n**Product Manager**, DEF Software Solutions | June 2016 - June 2018\\n* Defined and prioritized product requirements based on market research and customer feedback\\n* Facilitated user testing and gathered insights to improve product design\\n* Worked closely with engineering to develop and implement new product features\\n\\n**Educational Background**\\n\\n**Master of Business Administration (MBA) with a focus on Product Management**, University of California, Berkeley | May 2016\\n\\n**Bachelor of Science in Computer Science**, Massachusetts Institute of Technology | May 2012\\n\\n**Relevant Coursework and Projects**\\n\\n* Product Development and Management\\n* Market Research and Analysis\\n* User Experience Design\\n* Case Study: Launch of a New Product'"
            ],
            "application/vnd.google.colaboratory.intrinsic+json": {
              "type": "string"
            }
          },
          "metadata": {},
          "execution_count": 16
        }
      ]
    }
  ]
}